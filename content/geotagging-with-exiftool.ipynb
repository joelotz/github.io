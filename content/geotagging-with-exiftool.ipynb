{
 "cells": [
  {
   "cell_type": "markdown",
   "metadata": {},
   "source": [
    "I use the Mapillary android app for taking \"street-level\" images, especially while driving. There is a [library of CLI-tools available](https://github.com/mapillary/mapillary_tools) for processing these images if you want/need to do anything customized or above what the mobile app does. It uses the power of one of my favorite tools, [Exiftool](https://exiftool.org/), and I wanted to dive under the hood to understand Exiftool more. This post is essentially some random information that I want to document for my future use as well as information that the reader can use to build their own photo processing workflow.\n",
    "\n",
    "### Reading Tags\n",
    "You can list all the metadata for a photo:\n",
    "```\n",
    "exiftool -a -s -G file.jpg\n",
    "```\n",
    "\n",
    "- **-a** means to show all tags, even if they are duplicated, like in a different group.\n",
    "- **-s** means instead of showing the \"friendly\" names  like \"Create Date\", show the names you need to use when you write  ExifTool commands. So instead of \"Create Date\" you see \"CreateDate\". \n",
    "- **-G** means also show the metadata Group to which the metadata tag belongs."
   ]
  },
  {
   "cell_type": "code",
   "execution_count": 1,
   "metadata": {
    "scrolled": true
   },
   "outputs": [
    {
     "name": "stdout",
     "output_type": "stream",
     "text": [
      "[ExifTool]      ExifToolVersion                 : 11.88\n",
      "[File]          FileName                        : photo.jpg\n",
      "[File]          Directory                       : .\n",
      "[File]          FileSize                        : 1789 kB\n",
      "[File]          FileModifyDate                  : 2020:06:07 22:15:00+05:30\n",
      "[File]          FileAccessDate                  : 2020:06:07 22:15:05+05:30\n",
      "[File]          FileInodeChangeDate             : 2020:06:07 22:15:00+05:30\n",
      "[File]          FilePermissions                 : rwxr-----\n",
      "[File]          FileType                        : JPEG\n",
      "[File]          FileTypeExtension               : jpg\n",
      "[File]          MIMEType                        : image/jpeg\n",
      "[File]          ExifByteOrder                   : Big-endian (Motorola, MM)\n",
      "[File]          ImageWidth                      : 4032\n",
      "[File]          ImageHeight                     : 2268\n",
      "[File]          EncodingProcess                 : Baseline DCT, Huffman coding\n",
      "[File]          BitsPerSample                   : 8\n",
      "[File]          ColorComponents                 : 3\n",
      "[File]          YCbCrSubSampling                : YCbCr4:2:0 (2 2)\n",
      "[EXIF]          Make                            : samsung\n",
      "[EXIF]          Model                           : SM-G955U\n",
      "[EXIF]          Orientation                     : Rotate 180\n",
      "[EXIF]          XResolution                     : 72\n",
      "[EXIF]          YResolution                     : 72\n",
      "[EXIF]          ResolutionUnit                  : inches\n",
      "[EXIF]          Software                        : G955USQS6DSG4\n",
      "[EXIF]          ModifyDate                      : 2020:06:06 14:06:41\n",
      "[EXIF]          YCbCrPositioning                : Centered\n",
      "[EXIF]          ExposureTime                    : 1/1723\n",
      "[EXIF]          FNumber                         : 1.7\n",
      "[EXIF]          ExposureProgram                 : Not Defined\n",
      "[EXIF]          ISO                             : 56\n",
      "[EXIF]          ExifVersion                     : 0220\n",
      "[EXIF]          DateTimeOriginal                : 2020:06:06 14:06:41\n",
      "[EXIF]          CreateDate                      : 2020:06:06 14:06:41\n",
      "[EXIF]          ComponentsConfiguration         : Y, Cb, Cr, -\n",
      "[EXIF]          ShutterSpeedValue               : 1/1722\n",
      "[EXIF]          ApertureValue                   : 1.7\n",
      "[EXIF]          BrightnessValue                 : 0\n",
      "[EXIF]          ExposureCompensation            : 0\n",
      "[EXIF]          MaxApertureValue                : 1.7\n",
      "[EXIF]          MeteringMode                    : Unknown\n",
      "[EXIF]          Flash                           : No Flash\n",
      "[EXIF]          FocalLength                     : 4.2 mm\n",
      "[EXIF]          SubSecTime                      : 907093\n",
      "[EXIF]          SubSecTimeOriginal              : 907093\n",
      "[EXIF]          SubSecTimeDigitized             : 907093\n",
      "[EXIF]          FlashpixVersion                 : 0100\n",
      "[EXIF]          ColorSpace                      : sRGB\n",
      "[EXIF]          ExifImageWidth                  : 4032\n",
      "[EXIF]          ExifImageHeight                 : 2268\n",
      "[EXIF]          InteropIndex                    : R98 - DCF basic file (sRGB)\n",
      "[EXIF]          InteropVersion                  : 0100\n",
      "[EXIF]          SensingMethod                   : Unknown (0)\n",
      "[EXIF]          SceneType                       : Unknown (0)\n",
      "[EXIF]          ExposureMode                    : Auto\n",
      "[EXIF]          WhiteBalance                    : Manual\n",
      "[EXIF]          SceneCaptureType                : Standard\n",
      "[EXIF]          GPSLatitudeRef                  : North\n",
      "[EXIF]          GPSLatitude                     : 18 deg 33' 53.03\"\n",
      "[EXIF]          GPSLongitudeRef                 : East\n",
      "[EXIF]          GPSLongitude                    : 73 deg 46' 31.66\"\n",
      "[EXIF]          GPSAltitudeRef                  : Above Sea Level\n",
      "[EXIF]          GPSAltitude                     : 508.1000061 m\n",
      "[EXIF]          GPSTimeStamp                    : 08:36:41.90709\n",
      "[EXIF]          GPSImgDirection                 : 76\n",
      "[EXIF]          GPSDateStamp                    : 2020:06:06\n",
      "[XMP]           XMPToolkit                      : Image::ExifTool 11.88\n",
      "[XMP]           Creator                         : Joe\n",
      "[XMP]           Description                     : This is a sunset taken on lookout hill\n",
      "[Composite]     Aperture                        : 1.7\n",
      "[Composite]     ImageSize                       : 4032x2268\n",
      "[Composite]     Megapixels                      : 9.1\n",
      "[Composite]     ShutterSpeed                    : 1/1723\n",
      "[Composite]     SubSecCreateDate                : 2020:06:06 14:06:41.907093\n",
      "[Composite]     SubSecDateTimeOriginal          : 2020:06:06 14:06:41.907093\n",
      "[Composite]     SubSecModifyDate                : 2020:06:06 14:06:41.907093\n",
      "[Composite]     GPSAltitude                     : 508.1 m Above Sea Level\n",
      "[Composite]     GPSDateTime                     : 2020:06:06 08:36:41.90708999Z\n",
      "[Composite]     GPSLatitude                     : 18 deg 33' 53.03\" N\n",
      "[Composite]     GPSLongitude                    : 73 deg 46' 31.66\" E\n",
      "[Composite]     FocalLength35efl                : 4.2 mm\n",
      "[Composite]     GPSPosition                     : 18 deg 33' 53.03\" N, 73 deg 46' 31.66\" E\n",
      "[Composite]     LightValue                      : 13.1\n"
     ]
    }
   ],
   "source": [
    "!exiftool -a -s -G photo.jpg"
   ]
  },
  {
   "cell_type": "markdown",
   "metadata": {},
   "source": [
    "Using the `-G` flag is useful for seeing groups. One use is if you what to view all tags for a group. For example,"
   ]
  },
  {
   "cell_type": "code",
   "execution_count": 2,
   "metadata": {},
   "outputs": [
    {
     "name": "stdout",
     "output_type": "stream",
     "text": [
      "[Composite]     Aperture                        : 1.7\n",
      "[Composite]     ImageSize                       : 4032x2268\n",
      "[Composite]     Megapixels                      : 9.1\n",
      "[Composite]     ShutterSpeed                    : 1/1723\n",
      "[Composite]     SubSecCreateDate                : 2020:06:06 14:06:41.907093\n",
      "[Composite]     SubSecDateTimeOriginal          : 2020:06:06 14:06:41.907093\n",
      "[Composite]     SubSecModifyDate                : 2020:06:06 14:06:41.907093\n",
      "[Composite]     GPSAltitude                     : 508.1 m Above Sea Level\n",
      "[Composite]     GPSDateTime                     : 2020:06:06 08:36:41.90708999Z\n",
      "[Composite]     GPSLatitude                     : 18 deg 33' 53.03\" N\n",
      "[Composite]     GPSLongitude                    : 73 deg 46' 31.66\" E\n",
      "[Composite]     FocalLength35efl                : 4.2 mm\n",
      "[Composite]     GPSPosition                     : 18 deg 33' 53.03\" N, 73 deg 46' 31.66\" E\n",
      "[Composite]     LightValue                      : 13.1\n"
     ]
    }
   ],
   "source": [
    "!exiftool -s -G -Composite:all photo.jpg"
   ]
  },
  {
   "cell_type": "markdown",
   "metadata": {},
   "source": [
    "The `-s` flag is useful because it shows the real names of the fields and not the \"pretty\" or \"friendly\" name. If you want to show a single tag you can call the name."
   ]
  },
  {
   "cell_type": "code",
   "execution_count": 3,
   "metadata": {},
   "outputs": [
    {
     "name": "stdout",
     "output_type": "stream",
     "text": [
      "[EXIF]          CreateDate                      : 2020:06:06 14:06:41\n"
     ]
    }
   ],
   "source": [
    "!exiftool -s -G -CreateDate photo.jpg"
   ]
  },
  {
   "cell_type": "markdown",
   "metadata": {},
   "source": [
    "If there are duplicates and any doubt about which tag you are reading/writing, you can define the group."
   ]
  },
  {
   "cell_type": "code",
   "execution_count": 4,
   "metadata": {},
   "outputs": [
    {
     "name": "stdout",
     "output_type": "stream",
     "text": [
      "[EXIF]          CreateDate                      : 2020:06:06 14:06:41\n"
     ]
    }
   ],
   "source": [
    "!exiftool -s -G -EXIF:CreateDate photo.jpg"
   ]
  },
  {
   "cell_type": "markdown",
   "metadata": {},
   "source": [
    "You can also read multiple tags."
   ]
  },
  {
   "cell_type": "code",
   "execution_count": 5,
   "metadata": {},
   "outputs": [
    {
     "name": "stdout",
     "output_type": "stream",
     "text": [
      "File Name                       : photo.jpg\n",
      "Create Date                     : 2020:06:06 14:06:41\n",
      "Create Date                     : 2020:06:06 14:06:41.907093\n"
     ]
    }
   ],
   "source": [
    "!exiftool -File:FileName -EXIF:CreateDate -Composite:SubSecCreateDate photo.jpg"
   ]
  },
  {
   "cell_type": "code",
   "execution_count": 7,
   "metadata": {},
   "outputs": [
    {
     "name": "stdout",
     "output_type": "stream",
     "text": [
      "FileName                        : photo.jpg\n",
      "CreateDate                      : 2020:06:06 14:06:41\n",
      "SubSecCreateDate                : 2020:06:06 14:06:41.907093\n"
     ]
    }
   ],
   "source": [
    "!exiftool -s -File:FileName -EXIF:CreateDate -Composite:SubSecCreateDate photo.jpg"
   ]
  },
  {
   "cell_type": "code",
   "execution_count": 6,
   "metadata": {},
   "outputs": [
    {
     "name": "stdout",
     "output_type": "stream",
     "text": [
      "[File]          FileName                        : photo.jpg\n",
      "[EXIF]          CreateDate                      : 2020:06:06 14:06:41\n",
      "[Composite]     SubSecCreateDate                : 2020:06:06 14:06:41.907093\n"
     ]
    }
   ],
   "source": [
    "!exiftool -s -G -File:FileName -EXIF:CreateDate -Composite:SubSecCreateDate photo.jpg"
   ]
  },
  {
   "cell_type": "markdown",
   "metadata": {},
   "source": [
    "### Writing Tags\n",
    "You can also write tags, or overwrite tags. Let's say I want to create a new metadata tag named \"Creator\" and add my name to it. I can also write multiple tags at once.\n",
    "```\n",
    "exiftool -Creator=\"Joe\" -Description=\"This is a sunset taken on lookout hill\" photo.jpg\n",
    "```"
   ]
  },
  {
   "cell_type": "code",
   "execution_count": 7,
   "metadata": {},
   "outputs": [
    {
     "name": "stdout",
     "output_type": "stream",
     "text": [
      "[XMP]           XMPToolkit                      : Image::ExifTool 11.88\n",
      "[XMP]           Creator                         : Joe\n",
      "[XMP]           Description                     : This is a sunset taken on lookout hill\n"
     ]
    }
   ],
   "source": [
    "!exiftool -s -G -XMP:all photo.jpg"
   ]
  },
  {
   "cell_type": "markdown",
   "metadata": {},
   "source": [
    "### Geotag\n",
    "When you geotag, Exiftool will take the date/time of a photo, find the nearest gps points within a provided log, and then interpolate the position based on the photo's date/time. If you have a hihg-quality gps receiver and can save a log I think geotagging photo coordinates will improve the location accuracy of the photos.\n",
    "```\n",
    "exiftool -geotag log.gpx *jpg\n",
    "```\n",
    "The above command is telling the tool to perform this position interpolation on all the files mathcing \"*jpg*\" in the current directory, using the gps trace \"log.gpx\" also in the current directory. \n",
    "\n",
    "From [this post](https://exiftool.org/forum/index.php?topic=11292.0) it was clarified that the subsecond date/time should be use (if available) for more accurate results. \n",
    "\n",
    "How to find an appropriate tag? Do a search!"
   ]
  },
  {
   "cell_type": "code",
   "execution_count": 8,
   "metadata": {},
   "outputs": [
    {
     "name": "stdout",
     "output_type": "stream",
     "text": [
      "[EXIF]          SubSecTime                      : 907093\n",
      "[EXIF]          SubSecTimeOriginal              : 907093\n",
      "[EXIF]          SubSecTimeDigitized             : 907093\n",
      "[Composite]     SubSecCreateDate                : 2020:06:06 14:06:41.907093\n",
      "[Composite]     SubSecDateTimeOriginal          : 2020:06:06 14:06:41.907093\n",
      "[Composite]     SubSecModifyDate                : 2020:06:06 14:06:41.907093\n"
     ]
    }
   ],
   "source": [
    "!exiftool -s -G -SubSec* photo.jpg"
   ]
  },
  {
   "cell_type": "markdown",
   "metadata": {},
   "source": [
    "For this photo it looks like we can use several of composite group tags.\n",
    "```\n",
    "exiftool -geotag log.gpx \"-GeoTime<Composite:SubSecCreateDate\" *jpg\n",
    "```\n",
    "The tool will update the latitude and longitude positions as well as add a handful of other EXIF and Composite tags. \n",
    "\n",
    "For example:"
   ]
  },
  {
   "cell_type": "code",
   "execution_count": 9,
   "metadata": {},
   "outputs": [
    {
     "name": "stdout",
     "output_type": "stream",
     "text": [
      "[GPS]           GPSLatitudeRef                  : North\n",
      "[GPS]           GPSLongitudeRef                 : East\n",
      "[GPS]           GPSAltitudeRef                  : Above Sea Level\n",
      "[GPS]           GPSTimeStamp                    : 08:36:41.90709\n",
      "[GPS]           GPSImgDirection                 : 76\n",
      "[GPS]           GPSDateStamp                    : 2020:06:06\n"
     ]
    }
   ],
   "source": [
    "!exiftool -s -G1 -GPS:all photo.jpg"
   ]
  },
  {
   "cell_type": "markdown",
   "metadata": {},
   "source": [
    "### Inverse Geotag\n",
    "If the photos have GPS information, you can create a gps track from a series of photos. This is as simple as:\n",
    "```\n",
    "exiftool -p ./gpx.fmt *jpg > phototrace.gpx\n",
    "```\n",
    "The above command is telling the tool to go through all files matching \"*jpg\" in the current directory and pull out the gps data for each one. Then write that data in the output file \"phototrace.gpx\" using the format \"gpx.fmt\". The format is completely customizable and is just a template for how to parse the data. The format files are [located here](https://github.com/exiftool/exiftool/tree/master/fmt_files) or you can make your own. Note that in this example the location of the file is in the current directory.\n",
    "\n",
    "If you want to export a Google Earth friendy kml file:\n",
    "```\n",
    "exiftool -p ./kml.fmt *jpg > phototrace.kml\n",
    "```"
   ]
  },
  {
   "cell_type": "markdown",
   "metadata": {},
   "source": [
    "### Mapillary Notes\n",
    "\n",
    "On an Android the photos taken from the Mapillary app are stored in the app data directory. Most likely you are storing the photos on an external SD Card, if so the storage location is: \n",
    "\n",
    "`SAMSUNG Android/Card/Android/data/app.mapillary/files/CAMERA2_0/<dirs>/` \n",
    "\n",
    "Otherwise the storage location is:\n",
    "\n",
    "`SAMSUNG Android/Phone/Android/data/app.mapillary/files/CAMERA2_0/<dirs>/`\n",
    "\n",
    "Another interesting note is that a [gpx file](https://en.wikipedia.org/wiki/GPS_Exchange_Format) is also created and stored in the corresponding directory. Photos are named by Mapillary in this format:\n",
    "\n",
    "`2020_06_06_14_06_41_856_+0530.jpg` which translates to\n",
    "`YYY\\_MM\\_DD\\_HH\\_MM\\_SS\\_xxx\\_UTCOffset`\n",
    "\n",
    "I'm not sure what \"xxx\" is. I thought it was the subseconds but it doesn't look like it. Another theory is that it was the subseconds at time of initial file creation and then the field `SubSecTime` is at the time the metadata was created. The difference is the processing delay or time it took to write the file. At least that is my theory..."
   ]
  },
  {
   "cell_type": "code",
   "execution_count": 10,
   "metadata": {},
   "outputs": [
    {
     "name": "stdout",
     "output_type": "stream",
     "text": [
      "[File]          FileName                        : photo.jpg\n",
      "[EXIF]          CreateDate                      : 2020:06:06 14:06:41\n",
      "[EXIF]          DateTimeOriginal                : 2020:06:06 14:06:41\n",
      "[EXIF]          SubSecTime                      : 907093\n",
      "[EXIF]          SubSecTimeOriginal              : 907093\n",
      "[Composite]     SubSecCreateDate                : 2020:06:06 14:06:41.907093\n"
     ]
    }
   ],
   "source": [
    "!exiftool -s -G \\\n",
    "    -File:FileName -EXIF:CreateDate -EXIF:DateTimeOriginal \\\n",
    "    -EXIF:SubSecTime -EXIF:SubSecTimeOriginal -Composite:SubSecCreateDate \\\n",
    "    photo.jpg"
   ]
  },
  {
   "cell_type": "code",
   "execution_count": 11,
   "metadata": {},
   "outputs": [
    {
     "data": {
      "application/json": {
       "Software versions": [
        {
         "module": "Python",
         "version": "3.7.4 64bit [GCC 7.3.0]"
        },
        {
         "module": "IPython",
         "version": "7.11.1"
        },
        {
         "module": "OS",
         "version": "Linux 5.4.0 33 generic x86_64 with debian bullseye sid"
        }
       ]
      },
      "text/html": [
       "<table><tr><th>Software</th><th>Version</th></tr><tr><td>Python</td><td>3.7.4 64bit [GCC 7.3.0]</td></tr><tr><td>IPython</td><td>7.11.1</td></tr><tr><td>OS</td><td>Linux 5.4.0 33 generic x86_64 with debian bullseye sid</td></tr><tr><td colspan='2'>Sun Jun 07 21:56:58 2020 IST</td></tr></table>"
      ],
      "text/latex": [
       "\\begin{tabular}{|l|l|}\\hline\n",
       "{\\bf Software} & {\\bf Version} \\\\ \\hline\\hline\n",
       "Python & 3.7.4 64bit [GCC 7.3.0] \\\\ \\hline\n",
       "IPython & 7.11.1 \\\\ \\hline\n",
       "OS & Linux 5.4.0 33 generic x86\\_64 with debian bullseye sid \\\\ \\hline\n",
       "\\hline \\multicolumn{2}{|l|}{Sun Jun 07 21:56:58 2020 IST} \\\\ \\hline\n",
       "\\end{tabular}\n"
      ],
      "text/plain": [
       "Software versions\n",
       "Python 3.7.4 64bit [GCC 7.3.0]\n",
       "IPython 7.11.1\n",
       "OS Linux 5.4.0 33 generic x86_64 with debian bullseye sid\n",
       "Sun Jun 07 21:56:58 2020 IST"
      ]
     },
     "execution_count": 11,
     "metadata": {},
     "output_type": "execute_result"
    }
   ],
   "source": [
    "%load_ext version_information\n",
    "%version_information"
   ]
  }
 ],
 "metadata": {
  "kernelspec": {
   "display_name": "Python 3",
   "language": "python",
   "name": "python3"
  },
  "language_info": {
   "codemirror_mode": {
    "name": "ipython",
    "version": 3
   },
   "file_extension": ".py",
   "mimetype": "text/x-python",
   "name": "python",
   "nbconvert_exporter": "python",
   "pygments_lexer": "ipython3",
   "version": "3.7.4"
  }
 },
 "nbformat": 4,
 "nbformat_minor": 4
}
