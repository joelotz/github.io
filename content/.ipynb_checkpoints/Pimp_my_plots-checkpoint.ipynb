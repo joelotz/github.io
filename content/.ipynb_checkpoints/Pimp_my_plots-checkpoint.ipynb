{
 "cells": [
  {
   "cell_type": "markdown",
   "metadata": {},
   "source": [
    "## Making Matplotlib Look Decent... aka Pimp my Plots\n",
    "----\n",
    "In this post I will show some matplotlib kung-fu! Most of this was stolen from [@jakevdp](http://jakevdp.github.io/), but others from StackExchange. The basic premise is that the default values for any visualization library (Excel, R, Python, Matlab) is ugly. Why do the developers use such horrible defaults?? But this tutorial, amongst many others on the interwebs, will show you how to \"pimp my plots\"!"
   ]
  },
  {
   "cell_type": "code",
   "execution_count": 2,
   "metadata": {},
   "outputs": [],
   "source": [
    "#I'll abstract out some of the mechanics to focus on the main idea of this post.\n",
    "%run ~/Blog/draft/SWS/setup.py"
   ]
  },
  {
   "cell_type": "markdown",
   "metadata": {},
   "source": [
    "Here I plot out some data that I developed in the file above. The contents are not important and are just used as an example to showcase the pplot formatting."
   ]
  },
  {
   "cell_type": "code",
   "execution_count": 3,
   "metadata": {},
   "outputs": [
    {
     "data": {
      "image/png": "[encoded data removed]",
      "text/plain": [
       "<matplotlib.figure.Figure at 0xac5cbac>"
      ]
     },
     "metadata": {},
     "output_type": "display_data"
    }
   ],
   "source": [
    "%matplotlib inline\n",
    "import matplotlib.pyplot as plt\n",
    "\n",
    "plt.bar(range(0,8), non, color='b', label='Series A')\n",
    "plt.bar(range(0,8), mux, color='r', bottom=non, label='Series B')\n",
    "plt.xticks(np.arange(0.4,8.4,1), muxYear.index.values, rotation='horizontal')\n",
    "\n",
    "plt.ylabel(\"Cost\")\n",
    "plt.xlabel(\"Years\")\n",
    "plt.legend(loc='best')\n",
    "\n",
    "plt.show()"
   ]
  },
  {
   "cell_type": "markdown",
   "metadata": {},
   "source": [
    "#### Figure 1. \"Before\" Plot"
   ]
  },
  {
   "cell_type": "markdown",
   "metadata": {},
   "source": [
    "The result is a pretty standard plot. The stacked bargraph shows two data series, A and B, across 7 years. The axes are labeled and everything looks like it is there. This isn't a <i>bad</i> plot, I wouldn't do much more than this if I were plotting a histogram or scatterplot to look at general data distribution. BUT, it isn't \"pretty\" enough to present to management or a report or a journal. The main point is, if it's a quick and dirty plot I don't polish it, but if someone else will look at it, I make it optimal for the audience.\n",
    "\n",
    "Who is your audience? Is this for a powerpoint slide? Then make sure all the text, ticks, etc. are large enough to be seen from the back of the room. Is this for an internal report? Then I crank up the resolution, throw in color, make it publication ready. Is this for a journal article? Then I consider doing all the plots in greyscale because it probably won't be published in color.\n",
    "\n",
    "OK... you weren't reading this for a lecture. Let's get to the fun stuff."
   ]
  },
  {
   "cell_type": "markdown",
   "metadata": {},
   "source": [
    "The key is changing your global rcParams to make the \"default\" better. Here is the guide to all [matplotlib params](http://matplotlib.org/1.3.1/users/customizing.html).\n",
    "Also, I use the [brewer2mpl](https://github.com/jiffyclub/brewer2mpl/wiki) library to ensure my colormaps are \"correct\", this is optional but I recommend it. Either use the library or hardcode your colors from [colorbrewer](http://colorbrewer2.org/)."
   ]
  },
  {
   "cell_type": "code",
   "execution_count": 4,
   "metadata": {},
   "outputs": [],
   "source": [
    "# first import rcParams from matplotlib\n",
    "from matplotlib import rcParams\n",
    "\n",
    "# optional, use the colorbrewer color maps\n",
    "import brewer2mpl\n",
    "\n",
    "# my color map from colorbrewer, this is qualitative and colorblind safe\n",
    "mycolors = brewer2mpl.get_map('Set2', 'Qualitative', 3).mpl_colors\n",
    "\n",
    "# === Constants for figure size ===\n",
    "# Springer book published chart width requirements (170 mm=~ 6.69291 inches)\n",
    "WIDTH = 6.69291  # http://www.springeropen.com/authors/figures\n",
    "# Golden ratio\n",
    "PHI = 1.6180339887498948482  # https://en.wikipedia.org/wiki/Golden_ratio\n",
    "HEIGHT = WIDTH / PHI\n",
    "\n",
    "# === Figure ===\n",
    "rcParams['figure.figsize'] = (WIDTH*1.5, HEIGHT*1.5)  # I like the image slightly bigger for online publishing\n",
    "rcParams['figure.dpi'] = 400\n",
    "\n",
    "# === Axes Style ===\n",
    "rcParams['axes.labelsize'] = 18\n",
    "rcParams['axes.titlesize'] = 22\n",
    "rcParams['axes.labelweight'] = 'normal'\n",
    "rcParams['axes.facecolor'] = 'f2f2f2'\n",
    "rcParams['axes.edgecolor'] = '444444' # GREY\n",
    "rcParams['axes.axisbelow'] = True\n",
    "rcParams['axes.labelcolor'] = '444444' # GREY\n",
    "\n",
    "# === Font Style ===\n",
    "rcParams['font.size'] = 15\n",
    "rcParams['font.family'] = 'Arial'\n",
    "\n",
    "# === Legend Style ===\n",
    "rcParams['legend.fontsize'] = 'medium'\n",
    "rcParams['legend.frameon'] = True\n",
    "rcParams['legend.numpoints'] = 3\n",
    "\n",
    "# === Tick Style ===\n",
    "rcParams['xtick.major.pad'] = 4\n",
    "rcParams['xtick.major.width'] = 1\n",
    "rcParams['xtick.color'] = '444444' # GREY\n",
    "\n",
    "rcParams['ytick.major.pad'] = 5\n",
    "rcParams['ytick.major.width'] = 1\n",
    "rcParams['ytick.color'] = '444444' # GREY\n",
    "\n",
    "rcParams['lines.linewidth'] = 2\n",
    "\n",
    "# === Grid Style ===\n",
    "rcParams['axes.grid'] = True \n",
    "rcParams['grid.linestyle'] = '-'\n",
    "rcParams['grid.alpha'] = 1\n",
    "rcParams['grid.color'] = 'white'\n",
    "rcParams['grid.linewidth'] = 2"
   ]
  },
  {
   "cell_type": "markdown",
   "metadata": {},
   "source": [
    "The above code changes the global plot parameters, meaning anything you plot here on out will be affected. I like to put this in my path and import it when I plot, kinda like my own personal config file.\n",
    "\n",
    "Below I plot out the same data as before, but with some additional \"local\" formatting."
   ]
  },
  {
   "cell_type": "code",
   "execution_count": 5,
   "metadata": {},
   "outputs": [
    {
     "data": {
      "image/png": "[encoded data removed]",
      "text/plain": [
       "<matplotlib.figure.Figure at 0xab4092c>"
      ]
     },
     "metadata": {},
     "output_type": "display_data"
    }
   ],
   "source": [
    "import matplotlib.ticker as tkr\n",
    "\n",
    "# formatter function takes tick label and tick position\n",
    "def func(x, pos):  \n",
    "   s = '{:0,d}'.format(int(x))\n",
    "   return s\n",
    "\n",
    "\n",
    "fig = plt.figure()\n",
    "ax = fig.gca()\n",
    "\n",
    "# get rid of top and right splines\n",
    "ax.spines['right'].set_visible(False)\n",
    "ax.spines['top'].set_visible(False)\n",
    "\n",
    "# set the tick position\n",
    "ax.xaxis.set_ticks_position('bottom')\n",
    "ax.yaxis.set_ticks_position('left')\n",
    "\n",
    "# plot out the stacked bar graph\n",
    "plt.bar(range(0,8), non, color=mycolors[2], label='Non')\n",
    "plt.bar(range(0,8), mux, color=mycolors[1], bottom=non, label='Mux')\n",
    "\n",
    "# move the x-axis ticks\n",
    "plt.xticks(np.arange(0.4,8.4,1), years, rotation='horizontal')\n",
    "\n",
    "# format y-axis ticks with thousand's comma\n",
    "ax.yaxis.set_major_formatter(tkr.FuncFormatter(func)) # set formatter to needed axis\n",
    "\n",
    "# provide labels & legend\n",
    "plt.ylabel(\"EAU\", labelpad=20)\n",
    "plt.xlabel(\"Years\", labelpad=20)\n",
    "plt.legend(loc='upper right')\n",
    "\n",
    "plt.show()"
   ]
  },
  {
   "cell_type": "markdown",
   "metadata": {},
   "source": [
    "#### Figure 2.  \"After\" Plot"
   ]
  },
  {
   "cell_type": "markdown",
   "metadata": {},
   "source": [
    "    plt.xticks(np.arange(0.4,8.4,1), muxYear.index.values, rotation='horizontal')"
   ]
  },
  {
   "cell_type": "markdown",
   "metadata": {},
   "source": [
    "This line of code is interesting, why did I move the x-axis labels over?? The bar chart is columns are defined as:"
   ]
  },
  {
   "cell_type": "markdown",
   "metadata": {},
   "source": [
    "    matplotlib.pyplot.bar(left, height, width=0.8, bottom=None, hold=None, **kwargs)"
   ]
  },
  {
   "cell_type": "markdown",
   "metadata": {},
   "source": [
    "The left side of the columns were defined on the integers {0,1,2,...7} with the default width of 0.8. I wanted the ticks to be right in the middle of the columns. Take the first bar, if starts at 0 with width of 0.8 that means the center is 0.4. The second bar starts at 1 with width 0.8 means the center is 1.4. So...the centers are on {0.4,1.4,...8.4}."
   ]
  },
  {
   "cell_type": "markdown",
   "metadata": {},
   "source": [
    "There are other ways to update the rcParams, like this:"
   ]
  },
  {
   "cell_type": "markdown",
   "metadata": {},
   "source": [
    "    rcParams.update({'font.size': 22})"
   ]
  },
  {
   "cell_type": "markdown",
   "metadata": {},
   "source": [
    "As I said, updating rcParams set the global configuration. You could, of course, change all the formatting locally like below."
   ]
  },
  {
   "cell_type": "markdown",
   "metadata": {},
   "source": [
    "    # For updating a single plot\n",
    "    for label in (ax.get_xticklabels() + ax.get_yticklabels()):\n",
    "        label.set_fontproperties(font_prop)\n",
    "        label.set_fontsize(13) # Size here overrides font_prop"
   ]
  },
  {
   "cell_type": "markdown",
   "metadata": {},
   "source": [
    "## Summary"
   ]
  },
  {
   "cell_type": "markdown",
   "metadata": {},
   "source": [
    "The point of this article was to encourage you to create better formatted plots easily by default. I should how to change the formatting parameters for all plots within the script. But wait - there's more! If you really like these changes, you could always change your [matplotlibrc file](http://matplotlib.org/users/customizing.html) and have your settings implemented everytime the matplotlib is imported.\n"
   ]
  },
  {
   "cell_type": "markdown",
   "metadata": {},
   "source": [
    "## References"
   ]
  },
  {
   "cell_type": "markdown",
   "metadata": {},
   "source": [
    "1.  http://www.noamross.net/blog/2013/11/20/formatting-plots-for-pubs.html"
   ]
  },
  {
   "cell_type": "markdown",
   "metadata": {},
   "source": [
    "## Notebook Library Versions"
   ]
  },
  {
   "cell_type": "code",
   "execution_count": 6,
   "metadata": {},
   "outputs": [
    {
     "data": {
      "application/json": {
       "Software versions": [
        {
         "module": "Python",
         "version": "2.7.5+ (default, Feb 27 2014, 19:39:55) [GCC 4.8.1]"
        },
        {
         "module": "IPython",
         "version": "2.0.0-dev"
        },
        {
         "module": "OS",
         "version": "posix [linux2]"
        },
        {
         "module": "ipython",
         "version": "0.13.2"
        },
        {
         "module": "matplotlib",
         "version": "1.2.1"
        },
        {
         "module": "brewer2mpl",
         "version": "1.4.dev"
        }
       ]
      },
      "text/html": [
       "<table><tr><th>Software</th><th>Version</th></tr><tr><td>Python</td><td>2.7.5+ (default, Feb 27 2014, 19:39:55) [GCC 4.8.1]</td></tr><tr><td>IPython</td><td>2.0.0-dev</td></tr><tr><td>OS</td><td>posix [linux2]</td></tr><tr><td>ipython</td><td>0.13.2</td></tr><tr><td>matplotlib</td><td>1.2.1</td></tr><tr><td>brewer2mpl</td><td>1.4.dev</td></tr><tr><td colspan='2'>Tue Oct 28 22:26:53 2014 PDT</td></tr></table>"
      ],
      "text/latex": [
       "\\begin{tabular}{|l|l|}\\hline\n",
       "{\\bf Software} & {\\bf Version} \\\\ \\hline\\hline\n",
       "Python & 2.7.5+ (default, Feb 27 2014, 19:39:55) [GCC 4.8.1] \\\\ \\hline\n",
       "IPython & 2.0.0-dev \\\\ \\hline\n",
       "OS & posix [linux2] \\\\ \\hline\n",
       "ipython & 0.13.2 \\\\ \\hline\n",
       "matplotlib & 1.2.1 \\\\ \\hline\n",
       "brewer2mpl & 1.4.dev \\\\ \\hline\n",
       "\\hline \\multicolumn{2}{|l|}{Tue Oct 28 22:26:53 2014 PDT} \\\\ \\hline\n",
       "\\end{tabular}\n"
      ],
      "text/plain": [
       "Software versions\n",
       "Python 2.7.5+ (default, Feb 27 2014, 19:39:55) [GCC 4.8.1]\n",
       "IPython 2.0.0-dev\n",
       "OS posix [linux2]\n",
       "ipython 0.13.2\n",
       "matplotlib 1.2.1\n",
       "brewer2mpl 1.4.dev\n",
       "<tr><td colspan='2'>Tue Oct 28 22:26:53 2014 PDT</td></tr>"
      ]
     },
     "execution_count": 6,
     "metadata": {},
     "output_type": "execute_result"
    }
   ],
   "source": [
    "%reload_ext version_information\n",
    "%version_information ipython, matplotlib, brewer2mpl"
   ]
  }
 ],
 "metadata": {
  "kernelspec": {
   "display_name": "Python 3",
   "language": "python",
   "name": "python3"
  },
  "language_info": {
   "codemirror_mode": {
    "name": "ipython",
    "version": 3
   },
   "file_extension": ".py",
   "mimetype": "text/x-python",
   "name": "python",
   "nbconvert_exporter": "python",
   "pygments_lexer": "ipython3",
   "version": "3.7.4"
  }
 },
 "nbformat": 4,
 "nbformat_minor": 1
}
