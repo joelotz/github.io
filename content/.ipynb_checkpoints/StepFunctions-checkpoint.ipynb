{
 "cells": [
  {
   "cell_type": "markdown",
   "metadata": {},
   "source": [
    "This week I had to make a \"burn chart\", essentially a chart showing amount of work per week. Since the weeks are discrete time steps I need a step function. I started playing with horizontal and vertical lines but luckily I quickly found that matplotlib has a [step function](http://matplotlib.org/api/lines_api.html#matplotlib.lines.Line2D.set_drawstyle). Unfortunately, it didn't quite act as I thought.\n",
    "\n",
    "There are there options for the drawstyle: \n",
    "1. \"steps\", which is the same as \"steps-pre\"\n",
    "2. \"steps-mid\"\n",
    "3. \"steps-post\"\n",
    "\n",
    "Assume the x-vector and y-vector for plotting is \n",
    "```\n",
    "X = [x1, x2, x3, x4]\n",
    "Y = [y1, y2, y3, y4]\n",
    "```\n",
    "**steps**\n",
    "* In this option y2 starts at x1, y3 starts at x2, y4 starts at x3 and ends at x4.\n",
    "\n",
    "**steps-mid**\n",
    "* In this option y1 starts at x1, y2 starts at mid-point between x1 and x2, y3 starts at mid-point between x2 and x3, y4 starts at mid-point between x3 and x4.\n",
    "\n",
    "**steps-post**\n",
    "* In this option y1 starts at x1, y2 starts at x2, y3 starts at x3, y4 starts at x4.\n",
    "\n",
    "For me, 'steps-post' makes the most sense to understand. Below is code to illustrate the options."
   ]
  },
  {
   "cell_type": "code",
   "execution_count": 1,
   "metadata": {},
   "outputs": [],
   "source": [
    "%matplotlib inline\n",
    "from matplotlib import pylab as plt"
   ]
  },
  {
   "cell_type": "code",
   "execution_count": 2,
   "metadata": {},
   "outputs": [
    {
     "data": {
      "image/png": "[encoded data removed]",
      "text/plain": [
       "<matplotlib.figure.Figure at 0x96f8e2c>"
      ]
     },
     "metadata": {},
     "output_type": "display_data"
    }
   ],
   "source": [
    "# make some date\n",
    "x =  [0, 10, 20, 30, 40]\n",
    "y =  [0, 10, 20, 30, 40]\n",
    "\n",
    "# disregard, this is my personal \"make pretty\" function\n",
    "fig, ax = myfig()\n",
    "\n",
    "# plot out the options\n",
    "plt.plot(x, y, drawstyle='steps', linestyle='-', label='steps-pre aka steps', alpha=0.5,)\n",
    "plt.plot(x, y, drawstyle='steps-mid', linestyle='--', label='steps-mid', alpha=0.5,)\n",
    "plt.plot(x, y, drawstyle='steps-post', linestyle=':', label='steps-post', alpha=0.5,)\n",
    "plt.xlim([0,45])\n",
    "plt.legend(loc='upper left')\n",
    "plt.show()"
   ]
  },
  {
   "cell_type": "markdown",
   "metadata": {},
   "source": [
    "-----"
   ]
  },
  {
   "cell_type": "code",
   "execution_count": 4,
   "metadata": {},
   "outputs": [
    {
     "data": {
      "application/json": {
       "Software versions": [
        {
         "module": "Python",
         "version": "2.7.5+ (default, Feb 27 2014, 19:39:55) [GCC 4.8.1]"
        },
        {
         "module": "IPython",
         "version": "2.0.0-dev"
        },
        {
         "module": "OS",
         "version": "posix [linux2]"
        },
        {
         "module": "ipython",
         "version": "0.13.2"
        },
        {
         "module": "pandas",
         "version": "0.13.1"
        },
        {
         "module": "matplotlib",
         "version": "1.2.1"
        }
       ]
      },
      "text/html": [
       "<table><tr><th>Software</th><th>Version</th></tr><tr><td>Python</td><td>2.7.5+ (default, Feb 27 2014, 19:39:55) [GCC 4.8.1]</td></tr><tr><td>IPython</td><td>2.0.0-dev</td></tr><tr><td>OS</td><td>posix [linux2]</td></tr><tr><td>ipython</td><td>0.13.2</td></tr><tr><td>pandas</td><td>0.13.1</td></tr><tr><td>matplotlib</td><td>1.2.1</td></tr><tr><td colspan='2'>Tue Nov 11 22:08:24 2014 PST</td></tr></table>"
      ],
      "text/latex": [
       "\\begin{tabular}{|l|l|}\\hline\n",
       "{\\bf Software} & {\\bf Version} \\\\ \\hline\\hline\n",
       "Python & 2.7.5+ (default, Feb 27 2014, 19:39:55) [GCC 4.8.1] \\\\ \\hline\n",
       "IPython & 2.0.0-dev \\\\ \\hline\n",
       "OS & posix [linux2] \\\\ \\hline\n",
       "ipython & 0.13.2 \\\\ \\hline\n",
       "pandas & 0.13.1 \\\\ \\hline\n",
       "matplotlib & 1.2.1 \\\\ \\hline\n",
       "\\hline \\multicolumn{2}{|l|}{Tue Nov 11 22:08:24 2014 PST} \\\\ \\hline\n",
       "\\end{tabular}\n"
      ],
      "text/plain": [
       "Software versions\n",
       "Python 2.7.5+ (default, Feb 27 2014, 19:39:55) [GCC 4.8.1]\n",
       "IPython 2.0.0-dev\n",
       "OS posix [linux2]\n",
       "ipython 0.13.2\n",
       "pandas 0.13.1\n",
       "matplotlib 1.2.1\n",
       "<tr><td colspan='2'>Tue Nov 11 22:08:24 2014 PST</td></tr>"
      ]
     },
     "execution_count": 4,
     "metadata": {},
     "output_type": "execute_result"
    }
   ],
   "source": [
    "%reload_ext version_information\n",
    "%version_information ipython, pandas, matplotlib"
   ]
  }
 ],
 "metadata": {
  "kernelspec": {
   "display_name": "Python 3",
   "language": "python",
   "name": "python3"
  },
  "language_info": {
   "codemirror_mode": {
    "name": "ipython",
    "version": 3
   },
   "file_extension": ".py",
   "mimetype": "text/x-python",
   "name": "python",
   "nbconvert_exporter": "python",
   "pygments_lexer": "ipython3",
   "version": "3.7.4"
  }
 },
 "nbformat": 4,
 "nbformat_minor": 1
}
